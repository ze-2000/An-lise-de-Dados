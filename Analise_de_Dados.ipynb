{
  "nbformat": 4,
  "nbformat_minor": 0,
  "metadata": {
    "colab": {
      "provenance": [],
      "authorship_tag": "ABX9TyORFlNIz/6d/GYZIe4rnNGw",
      "include_colab_link": true
    },
    "kernelspec": {
      "name": "python3",
      "display_name": "Python 3"
    },
    "language_info": {
      "name": "python"
    }
  },
  "cells": [
    {
      "cell_type": "markdown",
      "metadata": {
        "id": "view-in-github",
        "colab_type": "text"
      },
      "source": [
        "<a href=\"https://colab.research.google.com/github/ze-2000/An-lise-de-Dados/blob/main/Analise_de_Dados.ipynb\" target=\"_parent\"><img src=\"https://colab.research.google.com/assets/colab-badge.svg\" alt=\"Open In Colab\"/></a>"
      ]
    },
    {
      "cell_type": "markdown",
      "source": [
        "Etapa 1: Preparação do Ambiente e Carregamento de Dados\n",
        "Descrição do documento:\n",
        "\n",
        "Objetivo: Configurar o ambiente e carregar o arquivo de dados para análise.\n",
        "\n",
        "Algoritmo:\n",
        "\n",
        "Instalar Bibliotecas (se necessário): No Google Colab, pandas, matplotlib e seaborn já vêm pré-instalados.\n",
        "\n",
        "Importar Bibliotecas: Importe as bibliotecas necessárias no início do seu script ou notebook.\n",
        "\n",
        "Carregar Dados:\n",
        "\n",
        "Exiba as primeiras linhas do DataFrame (.head()) e suas informações gerais (.info()) para uma primeira inspeção.\n",
        "\n",
        "Ponto de Atenção: Verifique o nome exato do arquivo e o caminho."
      ],
      "metadata": {
        "id": "QIv2FzOsRMAb"
      }
    },
    {
      "cell_type": "code",
      "execution_count": null,
      "metadata": {
        "id": "jg3-QXCxJAoY"
      },
      "outputs": [],
      "source": [
        "# Importar bibliotecas\n",
        "import pandas as pd\n",
        "import numpy as np\n",
        "import matplotlib.pyplot as plt\n",
        "import seaborn as sns\n",
        "\n",
        "# Carregar o arquivo Excel (certifique-se que o arquivo está no mesmo diretório do script ou notebook)\n",
        "df = pd.read_excel('12 RP07 Análise de Dados com Python.xlsx')\n",
        "\n",
        "# Exibir as primeiras linhas e informações gerais\n",
        "print(df.head())\n",
        "print(df.info())\n"
      ]
    },
    {
      "cell_type": "markdown",
      "source": [
        " Etapa 2: Limpeza e Pré-processamento de Dados\n",
        "Descrição do documento:\n",
        "\n",
        "Objetivo: Tratar inconsistências e preparar os dados para análise.\n",
        "\n",
        "Algoritmo:\n",
        "\n",
        "Renomear Colunas: Padronize nomes de colunas (ex: remover espaços, caracteres especiais).\n",
        "\n",
        "Verificar Valores Ausentes: Identifique colunas com valores nulos.\n",
        "\n",
        "Converter Tipos de Dados:\n",
        "\n",
        "Verifique os tipos de dados.\n",
        "\n",
        "Converta colunas numéricas para float/int (ex: Total Vendas, Quantidade...).\n",
        "\n",
        "Atenção a vírgulas como separadores decimais.\n",
        "\n",
        "Converta a coluna Data Pedido para datetime.\n",
        "\n",
        "Tratar Duplicatas: Verifique e remova duplicatas se houver."
      ],
      "metadata": {
        "id": "XhViQJCKRaFI"
      }
    },
    {
      "cell_type": "code",
      "source": [
        "# Padronizar os nomes das colunas\n",
        "df.columns = df.columns.str.strip().str.lower().str.replace(' ', '_').str.replace(r'[^\\w\\s]', '', regex=True)\n",
        "\n",
        "# Verificar valores ausentes\n",
        "print(\"Valores ausentes por coluna:\")\n",
        "print(df.isnull().sum())\n",
        "\n",
        "# Converter colunas numéricas com vírgulas para float\n",
        "colunas_numericas = ['total_vendas', 'quantidade', 'desconto', 'lucro']\n",
        "for col in colunas_numericas:\n",
        "    df[col] = df[col].astype(str).str.replace(',', '.').astype(float)\n",
        "\n",
        "# Converter coluna de data\n",
        "df['data_pedido'] = pd.to_datetime(df['data_pedido'], errors='coerce')\n",
        "\n",
        "# Remover duplicatas\n",
        "df.drop_duplicates(inplace=True)\n"
      ],
      "metadata": {
        "id": "hZxmX5QsRaiJ"
      },
      "execution_count": null,
      "outputs": []
    },
    {
      "cell_type": "markdown",
      "source": [
        " Etapa 3: Análise Exploratória de Dados (EDA) e Respostas às Perguntas de Negócio\n",
        "Descrição do documento:\n",
        "\n",
        "Objetivo: Utilizar o Pandas para responder às perguntas estratégicas dos gestores.\n",
        "\n",
        "Algoritmo:\n",
        "\n",
        "Total de Vendas Acumulado: Soma da coluna Total Vendas.\n",
        "\n",
        "Categorias de Produtos Mais Vendidas: Agrupar por Categoria e somar.\n",
        "\n",
        "Prioridade de Entrega vs. Vendas por País: Agrupar por País e Prioridade.\n",
        "\n",
        "Impacto dos Descontos nas Subcategorias: Média de Desconto e soma de Vendas.\n",
        "\n",
        "Países com Maior Ticket Médio: Soma Total Vendas / Soma Quantidade por País."
      ],
      "metadata": {
        "id": "fF08Mu49RouJ"
      }
    },
    {
      "cell_type": "code",
      "source": [
        "# Total de Vendas Acumulado\n",
        "total_vendas = df['total_vendas'].sum()\n",
        "print(f\"Total de Vendas: R${total_vendas:,.2f}\")\n",
        "\n",
        "# Categorias de Produtos Mais Vendidas\n",
        "vendas_por_categoria = df.groupby('categoria')['total_vendas'].sum().sort_values(ascending=False)\n",
        "print(\"\\nVendas por Categoria:\")\n",
        "print(vendas_por_categoria)\n",
        "\n",
        "# Prioridade de Entrega vs. Vendas por País\n",
        "vendas_pais_prioridade = df.groupby(['pais', 'prioridade'])['total_vendas'].sum().unstack().fillna(0)\n",
        "print(\"\\nVendas por País e Prioridade:\")\n",
        "print(vendas_pais_prioridade)\n",
        "\n",
        "# Impacto dos Descontos nas Subcategorias\n",
        "desconto_subcategoria = df.groupby('subcategoria').agg(\n",
        "    media_desconto=('desconto', 'mean'),\n",
        "    total_vendas=('total_vendas', 'sum')\n",
        ").sort_values(by='media_desconto', ascending=False)\n",
        "print(\"\\nDesconto médio e total de vendas por Subcategoria:\")\n",
        "print(desconto_subcategoria)\n",
        "\n",
        "# Países com Maior Ticket Médio\n",
        "df['ticket_medio'] = df['total_vendas'] / df['quantidade']\n",
        "ticket_medio_pais = df.groupby('pais')['ticket_medio'].mean().sort_values(ascending=False)\n",
        "print(\"\\nTop países por ticket médio:\")\n",
        "print(ticket_medio_pais)\n"
      ],
      "metadata": {
        "id": "MsCWXGFQRqOh"
      },
      "execution_count": null,
      "outputs": []
    },
    {
      "cell_type": "markdown",
      "source": [
        "Etapa 4: Visualização de Dados\n",
        "Descrição do documento:\n",
        "\n",
        "Objetivo: Criar gráficos para apresentar os insights de forma clara e visualmente atraente.\n",
        "\n",
        "Algoritmo:\n",
        "\n",
        "Total de Vendas por Categoria: Gráfico de barras ou pizza.\n",
        "\n",
        "Média de Desconto por SubCategoria: Gráfico de barras horizontal.\n",
        "\n",
        "Total de Vendas Global: Exibir valor formatado ou em destaque.\n",
        "\n",
        "Vendas por País e Prioridade: Gráfico de barras empilhadas.\n",
        "\n",
        "Ticket Médio por País: Gráfico de barras com top N países."
      ],
      "metadata": {
        "id": "6ke02md9Rr8L"
      }
    },
    {
      "cell_type": "code",
      "source": [
        "# Gráfico de barras: Vendas por Categoria\n",
        "vendas_por_categoria.plot(kind='bar', title='Total de Vendas por Categoria')\n",
        "plt.ylabel('Total de Vendas')\n",
        "plt.xticks(rotation=45)\n",
        "plt.tight_layout()\n",
        "plt.show()\n",
        "\n",
        "# Gráfico de barras horizontal: Média de Desconto por SubCategoria\n",
        "desconto_subcategoria['media_desconto'].sort_values().plot(kind='barh', title='Média de Desconto por SubCategoria')\n",
        "plt.xlabel('Desconto Médio')\n",
        "plt.tight_layout()\n",
        "plt.show()\n",
        "\n",
        "# Exibir Total Global de Vendas\n",
        "print(f\"\\nTOTAL GLOBAL DE VENDAS: R${total_vendas:,.2f}\")\n",
        "\n",
        "# Gráfico de barras empilhadas: Vendas por País e Prioridade\n",
        "vendas_pais_prioridade.plot(kind='bar', stacked=True, title='Vendas por País e Prioridade')\n",
        "plt.ylabel('Total de Vendas')\n",
        "plt.xticks(rotation=90)\n",
        "plt.tight_layout()\n",
        "plt.show()\n",
        "\n",
        "# Gráfico de barras: Top 10 Países por Ticket Médio\n",
        "ticket_medio_pais.head(10).plot(kind='bar', title='Top 10 Países por Ticket Médio')\n",
        "plt.ylabel('Ticket Médio')\n",
        "plt.xticks(rotation=45)\n",
        "plt.tight_layout()\n",
        "plt.show()\n"
      ],
      "metadata": {
        "id": "rPvnL6xARt9s"
      },
      "execution_count": null,
      "outputs": []
    }
  ]
}